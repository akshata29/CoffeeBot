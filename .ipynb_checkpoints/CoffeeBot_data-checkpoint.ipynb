{
 "cells": [
  {
   "cell_type": "code",
   "execution_count": 1,
   "metadata": {
    "collapsed": true
   },
   "outputs": [],
   "source": [
    "import numpy as np\n",
    "import pandas as pd\n",
    "import download"
   ]
  },
  {
   "cell_type": "code",
   "execution_count": 2,
   "metadata": {
    "collapsed": true
   },
   "outputs": [],
   "source": [
    "data = download.saveFile()\n",
    "data.fillna(0, inplace=True)"
   ]
  },
  {
   "cell_type": "code",
   "execution_count": 3,
   "metadata": {
    "collapsed": true
   },
   "outputs": [],
   "source": [
    "# convert date\n",
    "import datetime as dt\n",
    "data['date'] = pd.to_datetime(data['date'])\n",
    "data['date']=data['date'].map(dt.datetime.toordinal)"
   ]
  },
  {
   "cell_type": "code",
   "execution_count": 6,
   "metadata": {},
   "outputs": [
    {
     "data": {
      "text/plain": [
       "1    162\n",
       "2     64\n",
       "0     15\n",
       "dtype: int64"
      ]
     },
     "execution_count": 6,
     "metadata": {},
     "output_type": "execute_result"
    }
   ],
   "source": [
    "d = pd.value_counts(data['type'].values)\n",
    "d"
   ]
  },
  {
   "cell_type": "code",
   "execution_count": 7,
   "metadata": {},
   "outputs": [
    {
     "data": {
      "text/html": [
       "<div>\n",
       "<style>\n",
       "    .dataframe thead tr:only-child th {\n",
       "        text-align: right;\n",
       "    }\n",
       "\n",
       "    .dataframe thead th {\n",
       "        text-align: left;\n",
       "    }\n",
       "\n",
       "    .dataframe tbody tr th {\n",
       "        vertical-align: top;\n",
       "    }\n",
       "</style>\n",
       "<table border=\"1\" class=\"dataframe\">\n",
       "  <thead>\n",
       "    <tr style=\"text-align: right;\">\n",
       "      <th></th>\n",
       "      <th>clouds</th>\n",
       "      <th>date</th>\n",
       "      <th>humidity</th>\n",
       "      <th>lat</th>\n",
       "      <th>location</th>\n",
       "      <th>lon</th>\n",
       "      <th>pressure</th>\n",
       "      <th>temp</th>\n",
       "      <th>type</th>\n",
       "      <th>userId</th>\n",
       "      <th>visibility</th>\n",
       "      <th>weatherCond</th>\n",
       "      <th>windDeg</th>\n",
       "      <th>windSpeed</th>\n",
       "      <th>device</th>\n",
       "    </tr>\n",
       "  </thead>\n",
       "  <tbody>\n",
       "    <tr>\n",
       "      <th>01EAB7E7-D5EB-407A-A307-CC8CEF6AB7F0</th>\n",
       "      <td>90</td>\n",
       "      <td>736496</td>\n",
       "      <td>82</td>\n",
       "      <td>40.73</td>\n",
       "      <td>Hoboken</td>\n",
       "      <td>-74.04</td>\n",
       "      <td>1015</td>\n",
       "      <td>65.00</td>\n",
       "      <td>1</td>\n",
       "      <td>DvGx1A7L7wNN9Han9GjEm08Mb7t2</td>\n",
       "      <td>16093</td>\n",
       "      <td></td>\n",
       "      <td>130.000000</td>\n",
       "      <td>6.00</td>\n",
       "      <td>0</td>\n",
       "    </tr>\n",
       "    <tr>\n",
       "      <th>0230E916-2DDC-4721-AC51-441FD7A60F39</th>\n",
       "      <td>90</td>\n",
       "      <td>736478</td>\n",
       "      <td>100</td>\n",
       "      <td>41.20</td>\n",
       "      <td>West Haverstraw</td>\n",
       "      <td>-73.99</td>\n",
       "      <td>1014</td>\n",
       "      <td>56.00</td>\n",
       "      <td>1</td>\n",
       "      <td>6eUdqOHk4YhcgJo2CqkSv8PI7ZF3</td>\n",
       "      <td>4828</td>\n",
       "      <td></td>\n",
       "      <td>116.501000</td>\n",
       "      <td>3.00</td>\n",
       "      <td>0</td>\n",
       "    </tr>\n",
       "    <tr>\n",
       "      <th>03567C18-EC38-4A51-AD35-65D8ADACF0EF</th>\n",
       "      <td>90</td>\n",
       "      <td>736668</td>\n",
       "      <td>87</td>\n",
       "      <td>40.71</td>\n",
       "      <td>New York</td>\n",
       "      <td>-74.01</td>\n",
       "      <td>1022</td>\n",
       "      <td>55.00</td>\n",
       "      <td>1</td>\n",
       "      <td>KeAdoRGcxYfNNQeAfvMG5DFj5zB3</td>\n",
       "      <td>16093</td>\n",
       "      <td></td>\n",
       "      <td>0.000000</td>\n",
       "      <td>4.00</td>\n",
       "      <td>0</td>\n",
       "    </tr>\n",
       "    <tr>\n",
       "      <th>03B00035-A25A-4590-94F7-090CC9E614D9</th>\n",
       "      <td>1</td>\n",
       "      <td>736633</td>\n",
       "      <td>75</td>\n",
       "      <td>40.92</td>\n",
       "      <td>Yonkers</td>\n",
       "      <td>-73.91</td>\n",
       "      <td>1016</td>\n",
       "      <td>43.00</td>\n",
       "      <td>1</td>\n",
       "      <td>KeAdoRGcxYfNNQeAfvMG5DFj5zB3</td>\n",
       "      <td>16093</td>\n",
       "      <td></td>\n",
       "      <td>257.502991</td>\n",
       "      <td>9.00</td>\n",
       "      <td>0</td>\n",
       "    </tr>\n",
       "    <tr>\n",
       "      <th>04b593d0-5dd7-11e7-8932-b96748e46eb9</th>\n",
       "      <td>75</td>\n",
       "      <td>736510</td>\n",
       "      <td>66</td>\n",
       "      <td>41.20</td>\n",
       "      <td>Haverstraw</td>\n",
       "      <td>-73.97</td>\n",
       "      <td>1012</td>\n",
       "      <td>87.37</td>\n",
       "      <td>1</td>\n",
       "      <td>0</td>\n",
       "      <td>24140</td>\n",
       "      <td></td>\n",
       "      <td>250.000000</td>\n",
       "      <td>5.82</td>\n",
       "      <td>Alexa</td>\n",
       "    </tr>\n",
       "  </tbody>\n",
       "</table>\n",
       "</div>"
      ],
      "text/plain": [
       "                                      clouds    date  humidity    lat  \\\n",
       "01EAB7E7-D5EB-407A-A307-CC8CEF6AB7F0      90  736496        82  40.73   \n",
       "0230E916-2DDC-4721-AC51-441FD7A60F39      90  736478       100  41.20   \n",
       "03567C18-EC38-4A51-AD35-65D8ADACF0EF      90  736668        87  40.71   \n",
       "03B00035-A25A-4590-94F7-090CC9E614D9       1  736633        75  40.92   \n",
       "04b593d0-5dd7-11e7-8932-b96748e46eb9      75  736510        66  41.20   \n",
       "\n",
       "                                             location    lon  pressure   temp  \\\n",
       "01EAB7E7-D5EB-407A-A307-CC8CEF6AB7F0          Hoboken -74.04      1015  65.00   \n",
       "0230E916-2DDC-4721-AC51-441FD7A60F39  West Haverstraw -73.99      1014  56.00   \n",
       "03567C18-EC38-4A51-AD35-65D8ADACF0EF         New York -74.01      1022  55.00   \n",
       "03B00035-A25A-4590-94F7-090CC9E614D9          Yonkers -73.91      1016  43.00   \n",
       "04b593d0-5dd7-11e7-8932-b96748e46eb9       Haverstraw -73.97      1012  87.37   \n",
       "\n",
       "                                     type                        userId  \\\n",
       "01EAB7E7-D5EB-407A-A307-CC8CEF6AB7F0    1  DvGx1A7L7wNN9Han9GjEm08Mb7t2   \n",
       "0230E916-2DDC-4721-AC51-441FD7A60F39    1  6eUdqOHk4YhcgJo2CqkSv8PI7ZF3   \n",
       "03567C18-EC38-4A51-AD35-65D8ADACF0EF    1  KeAdoRGcxYfNNQeAfvMG5DFj5zB3   \n",
       "03B00035-A25A-4590-94F7-090CC9E614D9    1  KeAdoRGcxYfNNQeAfvMG5DFj5zB3   \n",
       "04b593d0-5dd7-11e7-8932-b96748e46eb9    1                             0   \n",
       "\n",
       "                                      visibility weatherCond     windDeg  \\\n",
       "01EAB7E7-D5EB-407A-A307-CC8CEF6AB7F0       16093              130.000000   \n",
       "0230E916-2DDC-4721-AC51-441FD7A60F39        4828              116.501000   \n",
       "03567C18-EC38-4A51-AD35-65D8ADACF0EF       16093                0.000000   \n",
       "03B00035-A25A-4590-94F7-090CC9E614D9       16093              257.502991   \n",
       "04b593d0-5dd7-11e7-8932-b96748e46eb9       24140              250.000000   \n",
       "\n",
       "                                      windSpeed device  \n",
       "01EAB7E7-D5EB-407A-A307-CC8CEF6AB7F0       6.00      0  \n",
       "0230E916-2DDC-4721-AC51-441FD7A60F39       3.00      0  \n",
       "03567C18-EC38-4A51-AD35-65D8ADACF0EF       4.00      0  \n",
       "03B00035-A25A-4590-94F7-090CC9E614D9       9.00      0  \n",
       "04b593d0-5dd7-11e7-8932-b96748e46eb9       5.82  Alexa  "
      ]
     },
     "execution_count": 7,
     "metadata": {},
     "output_type": "execute_result"
    }
   ],
   "source": [
    "#rename type col\n",
    "for index,rows in data.iterrows():\n",
    "    if (data.loc[index, 'type'] == 0 or data.loc[index, 'type'] == 2):\n",
    "        data.loc[index, 'type'] = '0'\n",
    "    if (data.loc[index, 'type'] == 1):\n",
    "        data.loc[index, 'type'] = '1'\n",
    "data.head()"
   ]
  },
  {
   "cell_type": "code",
   "execution_count": 99,
   "metadata": {
    "collapsed": true
   },
   "outputs": [],
   "source": [
    "#one-hot encode type\n",
    "coffee = pd.get_dummies(data['type'])\n",
    "data = pd.concat([data, coffee], axis=1)"
   ]
  },
  {
   "cell_type": "code",
   "execution_count": 8,
   "metadata": {},
   "outputs": [
    {
     "data": {
      "text/plain": [
       "1    162\n",
       "0     79\n",
       "dtype: int64"
      ]
     },
     "execution_count": 8,
     "metadata": {},
     "output_type": "execute_result"
    }
   ],
   "source": [
    "d = pd.value_counts(data['type'].values)\n",
    "d"
   ]
  },
  {
   "cell_type": "code",
   "execution_count": 9,
   "metadata": {},
   "outputs": [
    {
     "data": {
      "text/html": [
       "<div>\n",
       "<style>\n",
       "    .dataframe thead tr:only-child th {\n",
       "        text-align: right;\n",
       "    }\n",
       "\n",
       "    .dataframe thead th {\n",
       "        text-align: left;\n",
       "    }\n",
       "\n",
       "    .dataframe tbody tr th {\n",
       "        vertical-align: top;\n",
       "    }\n",
       "</style>\n",
       "<table border=\"1\" class=\"dataframe\">\n",
       "  <thead>\n",
       "    <tr style=\"text-align: right;\">\n",
       "      <th></th>\n",
       "      <th>clouds</th>\n",
       "      <th>date</th>\n",
       "      <th>humidity</th>\n",
       "      <th>lat</th>\n",
       "      <th>lon</th>\n",
       "      <th>pressure</th>\n",
       "      <th>temp</th>\n",
       "      <th>type</th>\n",
       "      <th>userId</th>\n",
       "      <th>visibility</th>\n",
       "      <th>windDeg</th>\n",
       "      <th>windSpeed</th>\n",
       "    </tr>\n",
       "  </thead>\n",
       "  <tbody>\n",
       "    <tr>\n",
       "      <th>01EAB7E7-D5EB-407A-A307-CC8CEF6AB7F0</th>\n",
       "      <td>90</td>\n",
       "      <td>736496</td>\n",
       "      <td>82</td>\n",
       "      <td>40.73</td>\n",
       "      <td>-74.04</td>\n",
       "      <td>1015</td>\n",
       "      <td>65.00</td>\n",
       "      <td>1</td>\n",
       "      <td>DvGx1A7L7wNN9Han9GjEm08Mb7t2</td>\n",
       "      <td>16093</td>\n",
       "      <td>130.000000</td>\n",
       "      <td>6.00</td>\n",
       "    </tr>\n",
       "    <tr>\n",
       "      <th>0230E916-2DDC-4721-AC51-441FD7A60F39</th>\n",
       "      <td>90</td>\n",
       "      <td>736478</td>\n",
       "      <td>100</td>\n",
       "      <td>41.20</td>\n",
       "      <td>-73.99</td>\n",
       "      <td>1014</td>\n",
       "      <td>56.00</td>\n",
       "      <td>1</td>\n",
       "      <td>6eUdqOHk4YhcgJo2CqkSv8PI7ZF3</td>\n",
       "      <td>4828</td>\n",
       "      <td>116.501000</td>\n",
       "      <td>3.00</td>\n",
       "    </tr>\n",
       "    <tr>\n",
       "      <th>03567C18-EC38-4A51-AD35-65D8ADACF0EF</th>\n",
       "      <td>90</td>\n",
       "      <td>736668</td>\n",
       "      <td>87</td>\n",
       "      <td>40.71</td>\n",
       "      <td>-74.01</td>\n",
       "      <td>1022</td>\n",
       "      <td>55.00</td>\n",
       "      <td>1</td>\n",
       "      <td>KeAdoRGcxYfNNQeAfvMG5DFj5zB3</td>\n",
       "      <td>16093</td>\n",
       "      <td>0.000000</td>\n",
       "      <td>4.00</td>\n",
       "    </tr>\n",
       "    <tr>\n",
       "      <th>03B00035-A25A-4590-94F7-090CC9E614D9</th>\n",
       "      <td>1</td>\n",
       "      <td>736633</td>\n",
       "      <td>75</td>\n",
       "      <td>40.92</td>\n",
       "      <td>-73.91</td>\n",
       "      <td>1016</td>\n",
       "      <td>43.00</td>\n",
       "      <td>1</td>\n",
       "      <td>KeAdoRGcxYfNNQeAfvMG5DFj5zB3</td>\n",
       "      <td>16093</td>\n",
       "      <td>257.502991</td>\n",
       "      <td>9.00</td>\n",
       "    </tr>\n",
       "    <tr>\n",
       "      <th>04b593d0-5dd7-11e7-8932-b96748e46eb9</th>\n",
       "      <td>75</td>\n",
       "      <td>736510</td>\n",
       "      <td>66</td>\n",
       "      <td>41.20</td>\n",
       "      <td>-73.97</td>\n",
       "      <td>1012</td>\n",
       "      <td>87.37</td>\n",
       "      <td>1</td>\n",
       "      <td>0</td>\n",
       "      <td>24140</td>\n",
       "      <td>250.000000</td>\n",
       "      <td>5.82</td>\n",
       "    </tr>\n",
       "  </tbody>\n",
       "</table>\n",
       "</div>"
      ],
      "text/plain": [
       "                                      clouds    date  humidity    lat    lon  \\\n",
       "01EAB7E7-D5EB-407A-A307-CC8CEF6AB7F0      90  736496        82  40.73 -74.04   \n",
       "0230E916-2DDC-4721-AC51-441FD7A60F39      90  736478       100  41.20 -73.99   \n",
       "03567C18-EC38-4A51-AD35-65D8ADACF0EF      90  736668        87  40.71 -74.01   \n",
       "03B00035-A25A-4590-94F7-090CC9E614D9       1  736633        75  40.92 -73.91   \n",
       "04b593d0-5dd7-11e7-8932-b96748e46eb9      75  736510        66  41.20 -73.97   \n",
       "\n",
       "                                      pressure   temp type  \\\n",
       "01EAB7E7-D5EB-407A-A307-CC8CEF6AB7F0      1015  65.00    1   \n",
       "0230E916-2DDC-4721-AC51-441FD7A60F39      1014  56.00    1   \n",
       "03567C18-EC38-4A51-AD35-65D8ADACF0EF      1022  55.00    1   \n",
       "03B00035-A25A-4590-94F7-090CC9E614D9      1016  43.00    1   \n",
       "04b593d0-5dd7-11e7-8932-b96748e46eb9      1012  87.37    1   \n",
       "\n",
       "                                                            userId  \\\n",
       "01EAB7E7-D5EB-407A-A307-CC8CEF6AB7F0  DvGx1A7L7wNN9Han9GjEm08Mb7t2   \n",
       "0230E916-2DDC-4721-AC51-441FD7A60F39  6eUdqOHk4YhcgJo2CqkSv8PI7ZF3   \n",
       "03567C18-EC38-4A51-AD35-65D8ADACF0EF  KeAdoRGcxYfNNQeAfvMG5DFj5zB3   \n",
       "03B00035-A25A-4590-94F7-090CC9E614D9  KeAdoRGcxYfNNQeAfvMG5DFj5zB3   \n",
       "04b593d0-5dd7-11e7-8932-b96748e46eb9                             0   \n",
       "\n",
       "                                      visibility     windDeg  windSpeed  \n",
       "01EAB7E7-D5EB-407A-A307-CC8CEF6AB7F0       16093  130.000000       6.00  \n",
       "0230E916-2DDC-4721-AC51-441FD7A60F39        4828  116.501000       3.00  \n",
       "03567C18-EC38-4A51-AD35-65D8ADACF0EF       16093    0.000000       4.00  \n",
       "03B00035-A25A-4590-94F7-090CC9E614D9       16093  257.502991       9.00  \n",
       "04b593d0-5dd7-11e7-8932-b96748e46eb9       24140  250.000000       5.82  "
      ]
     },
     "execution_count": 9,
     "metadata": {},
     "output_type": "execute_result"
    }
   ],
   "source": [
    "#drop un-neccessary cols\n",
    "data = data.drop(['location', 'weatherCond', 'device'], axis=1)\n",
    "data.head()"
   ]
  },
  {
   "cell_type": "code",
   "execution_count": 10,
   "metadata": {
    "collapsed": true
   },
   "outputs": [],
   "source": [
    "#save csv\n",
    "data.to_csv('data.csv')"
   ]
  },
  {
   "cell_type": "code",
   "execution_count": 103,
   "metadata": {
    "collapsed": true
   },
   "outputs": [],
   "source": [
    "#read from csv\n",
    "data = pd.read_csv('data.csv')"
   ]
  }
 ],
 "metadata": {
  "kernelspec": {
   "display_name": "Python 3",
   "language": "python",
   "name": "python3"
  },
  "language_info": {
   "codemirror_mode": {
    "name": "ipython",
    "version": 3
   },
   "file_extension": ".py",
   "mimetype": "text/x-python",
   "name": "python",
   "nbconvert_exporter": "python",
   "pygments_lexer": "ipython3",
   "version": "3.6.1"
  }
 },
 "nbformat": 4,
 "nbformat_minor": 2
}
