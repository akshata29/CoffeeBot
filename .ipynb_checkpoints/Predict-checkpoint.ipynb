{
 "cells": [
  {
   "cell_type": "code",
   "execution_count": 1,
   "metadata": {
    "collapsed": true
   },
   "outputs": [],
   "source": [
    "import pickle\n",
    "import pandas as pd\n",
    "import numpy as np"
   ]
  },
  {
   "cell_type": "code",
   "execution_count": 2,
   "metadata": {},
   "outputs": [
    {
     "name": "stdout",
     "output_type": "stream",
     "text": [
      "RandomForestClassifier(bootstrap=True, class_weight=None, criterion='gini',\n",
      "            max_depth=None, max_features='auto', max_leaf_nodes=None,\n",
      "            min_impurity_split=1e-07, min_samples_leaf=1,\n",
      "            min_samples_split=2, min_weight_fraction_leaf=0.0,\n",
      "            n_estimators=10, n_jobs=1, oob_score=False, random_state=None,\n",
      "            verbose=0, warm_start=False)\n"
     ]
    }
   ],
   "source": [
    "file = open('models/rf.sav', 'rb')\n",
    "svc = pickle.load(file)\n",
    "print (svc)"
   ]
  },
  {
   "cell_type": "code",
   "execution_count": 22,
   "metadata": {},
   "outputs": [
    {
     "data": {
      "text/html": [
       "<div>\n",
       "<style>\n",
       "    .dataframe thead tr:only-child th {\n",
       "        text-align: right;\n",
       "    }\n",
       "\n",
       "    .dataframe thead th {\n",
       "        text-align: left;\n",
       "    }\n",
       "\n",
       "    .dataframe tbody tr th {\n",
       "        vertical-align: top;\n",
       "    }\n",
       "</style>\n",
       "<table border=\"1\" class=\"dataframe\">\n",
       "  <thead>\n",
       "    <tr style=\"text-align: right;\">\n",
       "      <th></th>\n",
       "      <th>clouds</th>\n",
       "      <th>humidity</th>\n",
       "      <th>temp</th>\n",
       "      <th>type</th>\n",
       "      <th>visibility</th>\n",
       "      <th>windSpeed</th>\n",
       "      <th>weatherCond_Clear</th>\n",
       "      <th>weatherCond_Clouds</th>\n",
       "      <th>weatherCond_Fog</th>\n",
       "      <th>weatherCond_Haze</th>\n",
       "      <th>weatherCond_Rain</th>\n",
       "      <th>weatherCond_Smoke</th>\n",
       "      <th>weatherCond_Snow</th>\n",
       "      <th>weatherCond_Thunderstorm</th>\n",
       "    </tr>\n",
       "  </thead>\n",
       "  <tbody>\n",
       "    <tr>\n",
       "      <th>4EBFBC8D-A692-4981-BC3A-AD90A3CC1AF0</th>\n",
       "      <td>1</td>\n",
       "      <td>100</td>\n",
       "      <td>68.0</td>\n",
       "      <td>0</td>\n",
       "      <td>16093</td>\n",
       "      <td>4.0</td>\n",
       "      <td>1</td>\n",
       "      <td>0</td>\n",
       "      <td>0</td>\n",
       "      <td>0</td>\n",
       "      <td>0</td>\n",
       "      <td>0</td>\n",
       "      <td>0</td>\n",
       "      <td>0</td>\n",
       "    </tr>\n",
       "    <tr>\n",
       "      <th>4113A4C6-2D75-46D9-8E63-B5C5790283F0</th>\n",
       "      <td>1</td>\n",
       "      <td>51</td>\n",
       "      <td>55.0</td>\n",
       "      <td>1</td>\n",
       "      <td>16093</td>\n",
       "      <td>3.0</td>\n",
       "      <td>0</td>\n",
       "      <td>1</td>\n",
       "      <td>0</td>\n",
       "      <td>0</td>\n",
       "      <td>0</td>\n",
       "      <td>0</td>\n",
       "      <td>0</td>\n",
       "      <td>0</td>\n",
       "    </tr>\n",
       "    <tr>\n",
       "      <th>5EAB2CF1-715A-4D6C-BE97-A9B3F975FA2F</th>\n",
       "      <td>1</td>\n",
       "      <td>76</td>\n",
       "      <td>50.0</td>\n",
       "      <td>1</td>\n",
       "      <td>16093</td>\n",
       "      <td>3.0</td>\n",
       "      <td>1</td>\n",
       "      <td>0</td>\n",
       "      <td>0</td>\n",
       "      <td>0</td>\n",
       "      <td>0</td>\n",
       "      <td>0</td>\n",
       "      <td>0</td>\n",
       "      <td>0</td>\n",
       "    </tr>\n",
       "    <tr>\n",
       "      <th>A1D65FC4-2188-4097-8076-E1210C7535C1</th>\n",
       "      <td>56</td>\n",
       "      <td>56</td>\n",
       "      <td>71.0</td>\n",
       "      <td>1</td>\n",
       "      <td>0</td>\n",
       "      <td>5.0</td>\n",
       "      <td>0</td>\n",
       "      <td>1</td>\n",
       "      <td>0</td>\n",
       "      <td>0</td>\n",
       "      <td>0</td>\n",
       "      <td>0</td>\n",
       "      <td>0</td>\n",
       "      <td>0</td>\n",
       "    </tr>\n",
       "    <tr>\n",
       "      <th>D1003A14-02AD-4EB2-8D71-2C7E260AFC15</th>\n",
       "      <td>20</td>\n",
       "      <td>40</td>\n",
       "      <td>72.0</td>\n",
       "      <td>0</td>\n",
       "      <td>16093</td>\n",
       "      <td>11.0</td>\n",
       "      <td>0</td>\n",
       "      <td>1</td>\n",
       "      <td>0</td>\n",
       "      <td>0</td>\n",
       "      <td>0</td>\n",
       "      <td>0</td>\n",
       "      <td>0</td>\n",
       "      <td>0</td>\n",
       "    </tr>\n",
       "  </tbody>\n",
       "</table>\n",
       "</div>"
      ],
      "text/plain": [
       "                                      clouds  humidity  temp  type  \\\n",
       "4EBFBC8D-A692-4981-BC3A-AD90A3CC1AF0       1       100  68.0     0   \n",
       "4113A4C6-2D75-46D9-8E63-B5C5790283F0       1        51  55.0     1   \n",
       "5EAB2CF1-715A-4D6C-BE97-A9B3F975FA2F       1        76  50.0     1   \n",
       "A1D65FC4-2188-4097-8076-E1210C7535C1      56        56  71.0     1   \n",
       "D1003A14-02AD-4EB2-8D71-2C7E260AFC15      20        40  72.0     0   \n",
       "\n",
       "                                      visibility  windSpeed  \\\n",
       "4EBFBC8D-A692-4981-BC3A-AD90A3CC1AF0       16093        4.0   \n",
       "4113A4C6-2D75-46D9-8E63-B5C5790283F0       16093        3.0   \n",
       "5EAB2CF1-715A-4D6C-BE97-A9B3F975FA2F       16093        3.0   \n",
       "A1D65FC4-2188-4097-8076-E1210C7535C1           0        5.0   \n",
       "D1003A14-02AD-4EB2-8D71-2C7E260AFC15       16093       11.0   \n",
       "\n",
       "                                      weatherCond_Clear  weatherCond_Clouds  \\\n",
       "4EBFBC8D-A692-4981-BC3A-AD90A3CC1AF0                  1                   0   \n",
       "4113A4C6-2D75-46D9-8E63-B5C5790283F0                  0                   1   \n",
       "5EAB2CF1-715A-4D6C-BE97-A9B3F975FA2F                  1                   0   \n",
       "A1D65FC4-2188-4097-8076-E1210C7535C1                  0                   1   \n",
       "D1003A14-02AD-4EB2-8D71-2C7E260AFC15                  0                   1   \n",
       "\n",
       "                                      weatherCond_Fog  weatherCond_Haze  \\\n",
       "4EBFBC8D-A692-4981-BC3A-AD90A3CC1AF0                0                 0   \n",
       "4113A4C6-2D75-46D9-8E63-B5C5790283F0                0                 0   \n",
       "5EAB2CF1-715A-4D6C-BE97-A9B3F975FA2F                0                 0   \n",
       "A1D65FC4-2188-4097-8076-E1210C7535C1                0                 0   \n",
       "D1003A14-02AD-4EB2-8D71-2C7E260AFC15                0                 0   \n",
       "\n",
       "                                      weatherCond_Rain  weatherCond_Smoke  \\\n",
       "4EBFBC8D-A692-4981-BC3A-AD90A3CC1AF0                 0                  0   \n",
       "4113A4C6-2D75-46D9-8E63-B5C5790283F0                 0                  0   \n",
       "5EAB2CF1-715A-4D6C-BE97-A9B3F975FA2F                 0                  0   \n",
       "A1D65FC4-2188-4097-8076-E1210C7535C1                 0                  0   \n",
       "D1003A14-02AD-4EB2-8D71-2C7E260AFC15                 0                  0   \n",
       "\n",
       "                                      weatherCond_Snow  \\\n",
       "4EBFBC8D-A692-4981-BC3A-AD90A3CC1AF0                 0   \n",
       "4113A4C6-2D75-46D9-8E63-B5C5790283F0                 0   \n",
       "5EAB2CF1-715A-4D6C-BE97-A9B3F975FA2F                 0   \n",
       "A1D65FC4-2188-4097-8076-E1210C7535C1                 0   \n",
       "D1003A14-02AD-4EB2-8D71-2C7E260AFC15                 0   \n",
       "\n",
       "                                      weatherCond_Thunderstorm  \n",
       "4EBFBC8D-A692-4981-BC3A-AD90A3CC1AF0                         0  \n",
       "4113A4C6-2D75-46D9-8E63-B5C5790283F0                         0  \n",
       "5EAB2CF1-715A-4D6C-BE97-A9B3F975FA2F                         0  \n",
       "A1D65FC4-2188-4097-8076-E1210C7535C1                         0  \n",
       "D1003A14-02AD-4EB2-8D71-2C7E260AFC15                         0  "
      ]
     },
     "execution_count": 22,
     "metadata": {},
     "output_type": "execute_result"
    }
   ],
   "source": [
    "data = pd.read_csv('data.csv', index_col=0)\n",
    "import sklearn.utils\n",
    "data = sklearn.utils.shuffle(data)\n",
    "\n",
    "\n",
    "labels = np.ravel(data[['type']],order='C')\n",
    "data.drop(['date', 'userId', 'lat', 'lon', 'location', 'device', 'zip', 'zipcode', 'pressure', 'windDeg'],axis=1, inplace=True)\n",
    "for index,rows in data.iterrows():\n",
    "    if (\"cloud\" in data.loc[index, 'weatherCond'].lower() or \"overcast\" in data.loc[index, 'weatherCond'].lower()):\n",
    "        data.loc[index, 'weatherCond'] = 'Clouds'\n",
    "        \n",
    "    if (\"snow\" in data.loc[index, 'weatherCond'].lower()):\n",
    "        data.loc[index, 'weatherCond'] = 'Snow'\n",
    "        \n",
    "    if (\"rain\" in data.loc[index, 'weatherCond'].lower() or \"drizzle\" in data.loc[index, 'weatherCond'].lower() or \"mist\" in data.loc[index, 'weatherCond'].lower()):\n",
    "        data.loc[index, 'weatherCond'] = 'Rain'\n",
    "        \n",
    "    if (\"none\" in data.loc[index, 'weatherCond'].lower()):\n",
    "        data.loc[index, 'weatherCond'] = 'Clear'\n",
    "    \n",
    "cat_vars=['weatherCond']\n",
    "for var in cat_vars:\n",
    "    cat_list='var'+'_'+var\n",
    "    cat_list = pd.get_dummies(data[var], prefix=var)\n",
    "    data1=data.join(cat_list)\n",
    "    data=data1\n",
    "data = data.drop(['weatherCond'], axis=1)\n",
    "# data = data.drop(['type'], axis=1)\n",
    "data.head()"
   ]
  },
  {
   "cell_type": "code",
   "execution_count": 11,
   "metadata": {},
   "outputs": [
    {
     "name": "stdout",
     "output_type": "stream",
     "text": [
      "<class 'pandas.core.frame.DataFrame'>\n",
      "Index: 583 entries, 1b85e070-8e3c-11e7-bd7e-576539d05eac to 307E13F1-0A98-4266-AD3B-645D27646174\n",
      "Data columns (total 13 columns):\n",
      "clouds                      583 non-null int64\n",
      "humidity                    583 non-null int64\n",
      "temp                        583 non-null float64\n",
      "visibility                  583 non-null int64\n",
      "windSpeed                   583 non-null float64\n",
      "weatherCond_Clear           583 non-null uint8\n",
      "weatherCond_Clouds          583 non-null uint8\n",
      "weatherCond_Fog             583 non-null uint8\n",
      "weatherCond_Haze            583 non-null uint8\n",
      "weatherCond_Rain            583 non-null uint8\n",
      "weatherCond_Smoke           583 non-null uint8\n",
      "weatherCond_Snow            583 non-null uint8\n",
      "weatherCond_Thunderstorm    583 non-null uint8\n",
      "dtypes: float64(2), int64(3), uint8(8)\n",
      "memory usage: 51.9+ KB\n"
     ]
    }
   ],
   "source": [
    "data.info()"
   ]
  },
  {
   "cell_type": "code",
   "execution_count": 17,
   "metadata": {},
   "outputs": [
    {
     "data": {
      "text/plain": [
       "array([  7.50000000e+01,   6.50000000e+01,   7.60000000e+01,\n",
       "         1.60930000e+04,   3.00000000e+00,   0.00000000e+00,\n",
       "         0.00000000e+00,   0.00000000e+00,   1.00000000e+00,\n",
       "         0.00000000e+00,   0.00000000e+00,   0.00000000e+00,\n",
       "         0.00000000e+00])"
      ]
     },
     "execution_count": 17,
     "metadata": {},
     "output_type": "execute_result"
    }
   ],
   "source": [
    "numpy_matrix = data.as_matrix()\n",
    "numpy_matrix[0]"
   ]
  },
  {
   "cell_type": "code",
   "execution_count": 19,
   "metadata": {},
   "outputs": [
    {
     "name": "stdout",
     "output_type": "stream",
     "text": [
      "predict [0]\n",
      "0\n"
     ]
    },
    {
     "name": "stderr",
     "output_type": "stream",
     "text": [
      "/Users/antoniohung/anaconda/lib/python3.6/site-packages/sklearn/utils/validation.py:395: DeprecationWarning: Passing 1d arrays as data is deprecated in 0.17 and will raise ValueError in 0.19. Reshape your data either using X.reshape(-1, 1) if your data has a single feature or X.reshape(1, -1) if it contains a single sample.\n",
      "  DeprecationWarning)\n"
     ]
    }
   ],
   "source": [
    "\n",
    "print(\"predict\",svc.predict(numpy_matrix[0]))\n",
    "print(labels[0])"
   ]
  },
  {
   "cell_type": "code",
   "execution_count": 23,
   "metadata": {
    "collapsed": true
   },
   "outputs": [],
   "source": [
    "def predict():\n",
    "    sample = data.sample()\n",
    "    label = sample['type']\n",
    "    sample.drop(['type'],axis=1, inplace=True)\n",
    "    numpy_matrix = sample.as_matrix()\n",
    "    values =  sample.values.tolist()\n",
    "\n",
    "    return sample, label, values, svc.predict(values)\n",
    "    "
   ]
  },
  {
   "cell_type": "code",
   "execution_count": 24,
   "metadata": {},
   "outputs": [
    {
     "name": "stdout",
     "output_type": "stream",
     "text": [
      "label 35C1F5CE-F649-4B7C-A111-F7FDFD9A36DC    0\n",
      "Name: type, dtype: int64\n",
      "values [[1.0, 72.0, 70.0, 16093.0, 3.0, 1.0, 0.0, 0.0, 0.0, 0.0, 0.0, 0.0, 0.0]]\n",
      "predict [0]\n"
     ]
    }
   ],
   "source": [
    "sample, label, values, predict = predict()\n",
    "print(\"label\", label)\n",
    "print(\"values\", values)\n",
    "print(\"predict\", predict)\n",
    "\n"
   ]
  },
  {
   "cell_type": "code",
   "execution_count": null,
   "metadata": {
    "collapsed": true
   },
   "outputs": [],
   "source": []
  }
 ],
 "metadata": {
  "kernelspec": {
   "display_name": "Python 3",
   "language": "python",
   "name": "python3"
  },
  "language_info": {
   "codemirror_mode": {
    "name": "ipython",
    "version": 3
   },
   "file_extension": ".py",
   "mimetype": "text/x-python",
   "name": "python",
   "nbconvert_exporter": "python",
   "pygments_lexer": "ipython3",
   "version": "3.6.1"
  }
 },
 "nbformat": 4,
 "nbformat_minor": 2
}
