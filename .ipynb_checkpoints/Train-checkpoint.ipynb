{
 "cells": [
  {
   "cell_type": "code",
   "execution_count": 479,
   "metadata": {
    "collapsed": true
   },
   "outputs": [],
   "source": [
    "import numpy as np\n",
    "import pandas as pd"
   ]
  },
  {
   "cell_type": "code",
   "execution_count": 480,
   "metadata": {
    "collapsed": true
   },
   "outputs": [],
   "source": [
    "data = pd.read_csv('data.csv', index_col=0)\n",
    "labels=data[['type']]\n",
    "# data = data.drop(['lat', 'lon', 'date', 'type', 'userId'], axis=1)\n",
    "data = data.drop(['type', 'userId', 'date',], axis=1)"
   ]
  },
  {
   "cell_type": "code",
   "execution_count": 481,
   "metadata": {
    "collapsed": true
   },
   "outputs": [],
   "source": [
    "# data['clouds'].replace(5, 1,inplace=True)\n",
    "# data['clouds'].replace(20, 40,inplace=True)\n",
    "# data['clouds'].unique()"
   ]
  },
  {
   "cell_type": "code",
   "execution_count": 482,
   "metadata": {
    "collapsed": true
   },
   "outputs": [],
   "source": [
    "#one- hot encoding\n",
    "# cat_vars=['clouds']\n",
    "# for var in cat_vars:\n",
    "#     cat_list='var'+'_'+var\n",
    "#     cat_list = pd.get_dummies(data[var], prefix=var)\n",
    "#     data1=data.join(cat_list)\n",
    "#     data=data1\n",
    "# data = data.drop(['clouds'], axis=1)"
   ]
  },
  {
   "cell_type": "code",
   "execution_count": 483,
   "metadata": {
    "collapsed": true
   },
   "outputs": [],
   "source": [
    "# #categorize values\n",
    "# data = data.fillna({\"visibility\": 0})\n",
    "# data = data.fillna({\"windSpeed\": 0})\n",
    "\n",
    "# for index,rows in data.iterrows():\n",
    "#     if (data.loc[index, 'visibility'] >0 and data.loc[index, 'visibility'] < 10000):\n",
    "#         data.loc[index, 'visibility'] = 1\n",
    "#     elif (data.loc[index, 'visibility'] > 10000 and data.loc[index, 'visibility'] < 20000):\n",
    "#         data.loc[index, 'visibility'] = 2\n",
    "#     elif (data.loc[index, 'visibility'] > 20000 and data.loc[index, 'visibility'] < 30000):\n",
    "#         data.loc[index, 'visibility'] = 3\n",
    "#     else:\n",
    "#         data.loc[index, 'visibility'] = 4\n",
    "        \n",
    "# for index,rows in data.iterrows():\n",
    "#     if (data.loc[index, 'temp'] >0 and data.loc[index, 'temp'] < 32):\n",
    "#         data.loc[index, 'temp'] = 1\n",
    "#     elif (data.loc[index, 'temp'] > 32 and data.loc[index, 'temp'] < 60):\n",
    "#         data.loc[index, 'temp'] = 2\n",
    "#     elif (data.loc[index, 'temp'] > 60 and data.loc[index, 'temp'] < 90):\n",
    "#         data.loc[index, 'temp'] = 3\n",
    "#     else:\n",
    "#         data.loc[index, 'temp'] = 4\n",
    "        \n",
    "# for index,rows in data.iterrows():\n",
    "#     if (data.loc[index, 'windDeg'] >0 and data.loc[index, 'windDeg'] < 90):\n",
    "#         data.loc[index, 'windDeg'] = 1\n",
    "#     elif (data.loc[index, 'windDeg'] > 90 and data.loc[index, 'windDeg'] < 180):\n",
    "#         data.loc[index, 'windDeg'] = 2\n",
    "#     elif (data.loc[index, 'windDeg'] > 180 and data.loc[index, 'windDeg'] < 270):\n",
    "#         data.loc[index, 'windDeg'] = 3\n",
    "#     else:\n",
    "#         data.loc[index, 'windDeg'] = 4\n",
    "        \n",
    "# for index,rows in data.iterrows():\n",
    "#     if (data.loc[index, 'windSpeed'] >0 and data.loc[index, 'windSpeed'] < 5):\n",
    "#         data.loc[index, 'windSpeed'] = 1\n",
    "#     elif (data.loc[index, 'windSpeed'] > 5 and data.loc[index, 'windSpeed'] < 10):\n",
    "#         data.loc[index, 'windSpeed'] = 2\n",
    "#     else:\n",
    "#         data.loc[index, 'windSpeed'] = 3"
   ]
  },
  {
   "cell_type": "code",
   "execution_count": 484,
   "metadata": {},
   "outputs": [
    {
     "data": {
      "text/html": [
       "<div>\n",
       "<style>\n",
       "    .dataframe thead tr:only-child th {\n",
       "        text-align: right;\n",
       "    }\n",
       "\n",
       "    .dataframe thead th {\n",
       "        text-align: left;\n",
       "    }\n",
       "\n",
       "    .dataframe tbody tr th {\n",
       "        vertical-align: top;\n",
       "    }\n",
       "</style>\n",
       "<table border=\"1\" class=\"dataframe\">\n",
       "  <thead>\n",
       "    <tr style=\"text-align: right;\">\n",
       "      <th></th>\n",
       "      <th>clouds</th>\n",
       "      <th>humidity</th>\n",
       "      <th>lat</th>\n",
       "      <th>lon</th>\n",
       "      <th>pressure</th>\n",
       "      <th>temp</th>\n",
       "      <th>visibility</th>\n",
       "      <th>windDeg</th>\n",
       "      <th>windSpeed</th>\n",
       "    </tr>\n",
       "  </thead>\n",
       "  <tbody>\n",
       "    <tr>\n",
       "      <th>01EAB7E7-D5EB-407A-A307-CC8CEF6AB7F0</th>\n",
       "      <td>90</td>\n",
       "      <td>82</td>\n",
       "      <td>40.73</td>\n",
       "      <td>-74.04</td>\n",
       "      <td>1015</td>\n",
       "      <td>65.00</td>\n",
       "      <td>16093</td>\n",
       "      <td>130.000000</td>\n",
       "      <td>6.00</td>\n",
       "    </tr>\n",
       "    <tr>\n",
       "      <th>0230E916-2DDC-4721-AC51-441FD7A60F39</th>\n",
       "      <td>90</td>\n",
       "      <td>100</td>\n",
       "      <td>41.20</td>\n",
       "      <td>-73.99</td>\n",
       "      <td>1014</td>\n",
       "      <td>56.00</td>\n",
       "      <td>4828</td>\n",
       "      <td>116.501000</td>\n",
       "      <td>3.00</td>\n",
       "    </tr>\n",
       "    <tr>\n",
       "      <th>03567C18-EC38-4A51-AD35-65D8ADACF0EF</th>\n",
       "      <td>90</td>\n",
       "      <td>87</td>\n",
       "      <td>40.71</td>\n",
       "      <td>-74.01</td>\n",
       "      <td>1022</td>\n",
       "      <td>55.00</td>\n",
       "      <td>16093</td>\n",
       "      <td>0.000000</td>\n",
       "      <td>4.00</td>\n",
       "    </tr>\n",
       "    <tr>\n",
       "      <th>03B00035-A25A-4590-94F7-090CC9E614D9</th>\n",
       "      <td>1</td>\n",
       "      <td>75</td>\n",
       "      <td>40.92</td>\n",
       "      <td>-73.91</td>\n",
       "      <td>1016</td>\n",
       "      <td>43.00</td>\n",
       "      <td>16093</td>\n",
       "      <td>257.502991</td>\n",
       "      <td>9.00</td>\n",
       "    </tr>\n",
       "    <tr>\n",
       "      <th>04b593d0-5dd7-11e7-8932-b96748e46eb9</th>\n",
       "      <td>75</td>\n",
       "      <td>66</td>\n",
       "      <td>41.20</td>\n",
       "      <td>-73.97</td>\n",
       "      <td>1012</td>\n",
       "      <td>87.37</td>\n",
       "      <td>24140</td>\n",
       "      <td>250.000000</td>\n",
       "      <td>5.82</td>\n",
       "    </tr>\n",
       "  </tbody>\n",
       "</table>\n",
       "</div>"
      ],
      "text/plain": [
       "                                      clouds  humidity    lat    lon  \\\n",
       "01EAB7E7-D5EB-407A-A307-CC8CEF6AB7F0      90        82  40.73 -74.04   \n",
       "0230E916-2DDC-4721-AC51-441FD7A60F39      90       100  41.20 -73.99   \n",
       "03567C18-EC38-4A51-AD35-65D8ADACF0EF      90        87  40.71 -74.01   \n",
       "03B00035-A25A-4590-94F7-090CC9E614D9       1        75  40.92 -73.91   \n",
       "04b593d0-5dd7-11e7-8932-b96748e46eb9      75        66  41.20 -73.97   \n",
       "\n",
       "                                      pressure   temp  visibility     windDeg  \\\n",
       "01EAB7E7-D5EB-407A-A307-CC8CEF6AB7F0      1015  65.00       16093  130.000000   \n",
       "0230E916-2DDC-4721-AC51-441FD7A60F39      1014  56.00        4828  116.501000   \n",
       "03567C18-EC38-4A51-AD35-65D8ADACF0EF      1022  55.00       16093    0.000000   \n",
       "03B00035-A25A-4590-94F7-090CC9E614D9      1016  43.00       16093  257.502991   \n",
       "04b593d0-5dd7-11e7-8932-b96748e46eb9      1012  87.37       24140  250.000000   \n",
       "\n",
       "                                      windSpeed  \n",
       "01EAB7E7-D5EB-407A-A307-CC8CEF6AB7F0       6.00  \n",
       "0230E916-2DDC-4721-AC51-441FD7A60F39       3.00  \n",
       "03567C18-EC38-4A51-AD35-65D8ADACF0EF       4.00  \n",
       "03B00035-A25A-4590-94F7-090CC9E614D9       9.00  \n",
       "04b593d0-5dd7-11e7-8932-b96748e46eb9       5.82  "
      ]
     },
     "execution_count": 484,
     "metadata": {},
     "output_type": "execute_result"
    }
   ],
   "source": [
    "data.head()"
   ]
  },
  {
   "cell_type": "code",
   "execution_count": 485,
   "metadata": {},
   "outputs": [
    {
     "name": "stdout",
     "output_type": "stream",
     "text": [
      "[False False  True  True False  True False False  True]\n",
      "[4 5 1 1 2 1 6 3 1]\n"
     ]
    },
    {
     "name": "stderr",
     "output_type": "stream",
     "text": [
      "/Users/antoniohung/anaconda/lib/python3.6/site-packages/sklearn/utils/validation.py:526: DataConversionWarning: A column-vector y was passed when a 1d array was expected. Please change the shape of y to (n_samples, ), for example using ravel().\n",
      "  y = column_or_1d(y, warn=True)\n"
     ]
    }
   ],
   "source": [
    "from sklearn.feature_selection import RFE\n",
    "from sklearn.linear_model import LogisticRegression\n",
    "model = LogisticRegression()\n",
    "rfe = RFE(model, 4)\n",
    "rfe = rfe.fit(data, labels)\n",
    "print(rfe.support_)\n",
    "print(rfe.ranking_)"
   ]
  },
  {
   "cell_type": "code",
   "execution_count": 486,
   "metadata": {},
   "outputs": [
    {
     "name": "stdout",
     "output_type": "stream",
     "text": [
      "Logistic regression accuracy: 0.685\n"
     ]
    },
    {
     "name": "stderr",
     "output_type": "stream",
     "text": [
      "/Users/antoniohung/anaconda/lib/python3.6/site-packages/sklearn/utils/validation.py:526: DataConversionWarning: A column-vector y was passed when a 1d array was expected. Please change the shape of y to (n_samples, ), for example using ravel().\n",
      "  y = column_or_1d(y, warn=True)\n"
     ]
    }
   ],
   "source": [
    "X = data#data[['lat','lon', 'temp', 'windSpeed']]\n",
    "y = labels\n",
    "from sklearn.cross_validation import train_test_split\n",
    "X_train, X_test, y_train, y_test = train_test_split(X, y, test_size=0.3, random_state=0)\n",
    "from sklearn.linear_model import LogisticRegression\n",
    "from sklearn import metrics\n",
    "logreg = LogisticRegression()\n",
    "logreg.fit(X_train, y_train)\n",
    "\n",
    "from sklearn.metrics import accuracy_score\n",
    "print('Logistic regression accuracy: {:.3f}'.format(accuracy_score(y_test, logreg.predict(X_test))))"
   ]
  },
  {
   "cell_type": "code",
   "execution_count": 487,
   "metadata": {},
   "outputs": [
    {
     "data": {
      "text/plain": [
       "LinearRegression(copy_X=True, fit_intercept=True, n_jobs=1, normalize=False)"
      ]
     },
     "execution_count": 487,
     "metadata": {},
     "output_type": "execute_result"
    }
   ],
   "source": [
    "from sklearn.linear_model import LinearRegression\n",
    "reg = LinearRegression()\n",
    "reg.fit(X_train,y_train)"
   ]
  },
  {
   "cell_type": "code",
   "execution_count": 488,
   "metadata": {},
   "outputs": [
    {
     "name": "stdout",
     "output_type": "stream",
     "text": [
      "Logistic regression accuracy: 0.685\n"
     ]
    }
   ],
   "source": [
    "from sklearn.metrics import accuracy_score\n",
    "print('Logistic regression accuracy: {:.3f}'.format(accuracy_score(y_test, logreg.predict(X_test))))"
   ]
  },
  {
   "cell_type": "code",
   "execution_count": 489,
   "metadata": {},
   "outputs": [
    {
     "name": "stdout",
     "output_type": "stream",
     "text": [
      "Random Forest Accuracy: 0.726\n"
     ]
    },
    {
     "name": "stderr",
     "output_type": "stream",
     "text": [
      "/Users/antoniohung/anaconda/lib/python3.6/site-packages/ipykernel_launcher.py:4: DataConversionWarning: A column-vector y was passed when a 1d array was expected. Please change the shape of y to (n_samples,), for example using ravel().\n",
      "  after removing the cwd from sys.path.\n"
     ]
    }
   ],
   "source": [
    "#random forest\n",
    "from sklearn.ensemble import RandomForestClassifier\n",
    "rf = RandomForestClassifier()\n",
    "rf.fit(X_train, y_train)\n",
    "print('Random Forest Accuracy: {:.3f}'.format(accuracy_score(y_test, rf.predict(X_test))))"
   ]
  },
  {
   "cell_type": "code",
   "execution_count": 490,
   "metadata": {},
   "outputs": [
    {
     "name": "stdout",
     "output_type": "stream",
     "text": [
      "Support vector machine accuracy: 0.699\n"
     ]
    },
    {
     "name": "stderr",
     "output_type": "stream",
     "text": [
      "/Users/antoniohung/anaconda/lib/python3.6/site-packages/sklearn/utils/validation.py:526: DataConversionWarning: A column-vector y was passed when a 1d array was expected. Please change the shape of y to (n_samples, ), for example using ravel().\n",
      "  y = column_or_1d(y, warn=True)\n"
     ]
    }
   ],
   "source": [
    "#SVM\n",
    "from sklearn.svm import SVC\n",
    "svc = SVC()\n",
    "svc.fit(X_train, y_train)\n",
    "print('Support vector machine accuracy: {:.3f}'.format(accuracy_score(y_test, svc.predict(X_test))))"
   ]
  },
  {
   "cell_type": "code",
   "execution_count": 491,
   "metadata": {},
   "outputs": [
    {
     "name": "stdout",
     "output_type": "stream",
     "text": [
      "10-fold cross validation average accuracy: 0.667\n"
     ]
    },
    {
     "name": "stderr",
     "output_type": "stream",
     "text": [
      "/Users/antoniohung/anaconda/lib/python3.6/site-packages/sklearn/model_selection/_validation.py:238: DataConversionWarning: A column-vector y was passed when a 1d array was expected. Please change the shape of y to (n_samples,), for example using ravel().\n",
      "  estimator.fit(X_train, y_train, **fit_params)\n",
      "/Users/antoniohung/anaconda/lib/python3.6/site-packages/sklearn/model_selection/_validation.py:238: DataConversionWarning: A column-vector y was passed when a 1d array was expected. Please change the shape of y to (n_samples,), for example using ravel().\n",
      "  estimator.fit(X_train, y_train, **fit_params)\n",
      "/Users/antoniohung/anaconda/lib/python3.6/site-packages/sklearn/model_selection/_validation.py:238: DataConversionWarning: A column-vector y was passed when a 1d array was expected. Please change the shape of y to (n_samples,), for example using ravel().\n",
      "  estimator.fit(X_train, y_train, **fit_params)\n",
      "/Users/antoniohung/anaconda/lib/python3.6/site-packages/sklearn/model_selection/_validation.py:238: DataConversionWarning: A column-vector y was passed when a 1d array was expected. Please change the shape of y to (n_samples,), for example using ravel().\n",
      "  estimator.fit(X_train, y_train, **fit_params)\n",
      "/Users/antoniohung/anaconda/lib/python3.6/site-packages/sklearn/model_selection/_validation.py:238: DataConversionWarning: A column-vector y was passed when a 1d array was expected. Please change the shape of y to (n_samples,), for example using ravel().\n",
      "  estimator.fit(X_train, y_train, **fit_params)\n",
      "/Users/antoniohung/anaconda/lib/python3.6/site-packages/sklearn/model_selection/_validation.py:238: DataConversionWarning: A column-vector y was passed when a 1d array was expected. Please change the shape of y to (n_samples,), for example using ravel().\n",
      "  estimator.fit(X_train, y_train, **fit_params)\n",
      "/Users/antoniohung/anaconda/lib/python3.6/site-packages/sklearn/model_selection/_validation.py:238: DataConversionWarning: A column-vector y was passed when a 1d array was expected. Please change the shape of y to (n_samples,), for example using ravel().\n",
      "  estimator.fit(X_train, y_train, **fit_params)\n",
      "/Users/antoniohung/anaconda/lib/python3.6/site-packages/sklearn/model_selection/_validation.py:238: DataConversionWarning: A column-vector y was passed when a 1d array was expected. Please change the shape of y to (n_samples,), for example using ravel().\n",
      "  estimator.fit(X_train, y_train, **fit_params)\n",
      "/Users/antoniohung/anaconda/lib/python3.6/site-packages/sklearn/model_selection/_validation.py:238: DataConversionWarning: A column-vector y was passed when a 1d array was expected. Please change the shape of y to (n_samples,), for example using ravel().\n",
      "  estimator.fit(X_train, y_train, **fit_params)\n",
      "/Users/antoniohung/anaconda/lib/python3.6/site-packages/sklearn/model_selection/_validation.py:238: DataConversionWarning: A column-vector y was passed when a 1d array was expected. Please change the shape of y to (n_samples,), for example using ravel().\n",
      "  estimator.fit(X_train, y_train, **fit_params)\n"
     ]
    }
   ],
   "source": [
    "from sklearn import model_selection\n",
    "from sklearn.model_selection import cross_val_score\n",
    "kfold = model_selection.KFold(n_splits=10, random_state=7)\n",
    "modelCV = RandomForestClassifier()\n",
    "scoring = 'accuracy'\n",
    "results = model_selection.cross_val_score(modelCV, X_train, y_train, cv=kfold, scoring=scoring)\n",
    "print(\"10-fold cross validation average accuracy: %.3f\" % (results.mean()))"
   ]
  },
  {
   "cell_type": "code",
   "execution_count": 492,
   "metadata": {
    "collapsed": true
   },
   "outputs": [],
   "source": [
    "#save mode\n",
    "import pickle\n",
    "filename = 'svc.sav'\n",
    "# filename = 'rf.sav'\n",
    "pickle.dump(svc, open(filename, 'wb'), protocol=2)"
   ]
  },
  {
   "cell_type": "code",
   "execution_count": null,
   "metadata": {
    "collapsed": true
   },
   "outputs": [],
   "source": []
  },
  {
   "cell_type": "code",
   "execution_count": null,
   "metadata": {
    "collapsed": true
   },
   "outputs": [],
   "source": []
  }
 ],
 "metadata": {
  "kernelspec": {
   "display_name": "Python 3",
   "language": "python",
   "name": "python3"
  },
  "language_info": {
   "codemirror_mode": {
    "name": "ipython",
    "version": 3
   },
   "file_extension": ".py",
   "mimetype": "text/x-python",
   "name": "python",
   "nbconvert_exporter": "python",
   "pygments_lexer": "ipython3",
   "version": "3.6.1"
  }
 },
 "nbformat": 4,
 "nbformat_minor": 2
}
