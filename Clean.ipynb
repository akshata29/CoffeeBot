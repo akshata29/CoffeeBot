{
 "cells": [
  {
   "cell_type": "code",
   "execution_count": 51,
   "metadata": {
    "collapsed": true
   },
   "outputs": [],
   "source": [
    "import pandas as pd\n",
    "df = pd.read_csv('data.csv')\n",
    "#remove unnamed cols\n",
    "df.drop(df.columns[[0, 1, 2]], axis=1, inplace=True)\n",
    "\n",
    "#fix issue where some values were incorrect on IOS\n",
    "for index, rows in df.iterrows():\n",
    "    if (df.loc[index, 'type'] == 2):\n",
    "        df.loc[index, 'type'] = 0\n",
    "\n",
    "#remove lat, lon, userid\n"
   ]
  },
  {
   "cell_type": "code",
   "execution_count": 52,
   "metadata": {},
   "outputs": [],
   "source": [
    "import numpy as np\n",
    "# null_columns=df.columns[df.isnull().any()]\n",
    "# df[null_columns].isnull()\n",
    "\n",
    "#remove nan zipcodes\n",
    "df['zipcode'].replace('', np.nan, inplace=True)\n",
    "df.dropna(subset=['zipcode'], inplace=True)"
   ]
  },
  {
   "cell_type": "code",
   "execution_count": 53,
   "metadata": {
    "collapsed": true
   },
   "outputs": [],
   "source": [
    "df.drop(['userId', 'lat', 'lon', 'device', 'weatherCond', 'zip', 'location'],axis=1, inplace=True)\n",
    "df.dropna()\n",
    "df.to_csv(\"data2.csv\")"
   ]
  },
  {
   "cell_type": "code",
   "execution_count": null,
   "metadata": {
    "collapsed": true
   },
   "outputs": [],
   "source": []
  }
 ],
 "metadata": {
  "kernelspec": {
   "display_name": "Python 3",
   "language": "python",
   "name": "python3"
  },
  "language_info": {
   "codemirror_mode": {
    "name": "ipython",
    "version": 3
   },
   "file_extension": ".py",
   "mimetype": "text/x-python",
   "name": "python",
   "nbconvert_exporter": "python",
   "pygments_lexer": "ipython3",
   "version": "3.6.1"
  }
 },
 "nbformat": 4,
 "nbformat_minor": 2
}
