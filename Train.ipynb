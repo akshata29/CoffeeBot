{
 "cells": [
  {
   "cell_type": "code",
   "execution_count": 1,
   "metadata": {
    "collapsed": true
   },
   "outputs": [],
   "source": [
    "%matplotlib inline\n",
    "\n",
    "import matplotlib\n",
    "import numpy as np\n",
    "import matplotlib.pyplot as plt\n",
    "import pandas as pd\n",
    "# Set random seed\n",
    "np.random.seed(42)"
   ]
  },
  {
   "cell_type": "code",
   "execution_count": 2,
   "metadata": {},
   "outputs": [
    {
     "name": "stdout",
     "output_type": "stream",
     "text": [
      "<class 'pandas.core.frame.DataFrame'>\n",
      "Index: 583 entries, d2134ea0-1e14-11e8-95a0-5bbfe3c5219b to 5f159ad0-6ad1-11e7-908f-4b064f587a76\n",
      "Data columns (total 7 columns):\n",
      "clouds         583 non-null int64\n",
      "humidity       583 non-null int64\n",
      "temp           583 non-null float64\n",
      "type           583 non-null int64\n",
      "visibility     583 non-null int64\n",
      "weatherCond    583 non-null object\n",
      "windSpeed      583 non-null float64\n",
      "dtypes: float64(2), int64(4), object(1)\n",
      "memory usage: 36.4+ KB\n"
     ]
    }
   ],
   "source": [
    "data = pd.read_csv('data.csv', index_col=0)\n",
    "import sklearn.utils\n",
    "data = sklearn.utils.shuffle(data)\n",
    "\n",
    "labels = np.ravel(data[['type']],order='C')\n",
    "data.drop(['date', 'userId', 'lat', 'lon', 'location', 'device', 'zip', 'zipcode', 'pressure', 'windDeg'],axis=1, inplace=True)\n",
    "data.info()\n"
   ]
  },
  {
   "cell_type": "code",
   "execution_count": 3,
   "metadata": {
    "collapsed": true
   },
   "outputs": [],
   "source": [
    "#force df to have same # of hot / iced rows\n",
    "hot = data.loc[data.type == 1]\n",
    "iced = data.loc[data.type == 0]\n",
    "\n",
    "#remove all hot\n",
    "data.drop(data[data.type == 1].index, inplace=True)\n",
    "\n",
    "num_delete = hot.shape[0] - iced.shape[0]\n",
    "indexes_to_keep = set(range(hot.shape[0])) - set(range(num_delete))\n",
    "hot_sliced = hot.take(list(indexes_to_keep))\n",
    "\n",
    "data = pd.concat([data, hot_sliced])\n",
    "data['type'].value_counts()\n",
    "labels = np.ravel(data[['type']],order='C')\n"
   ]
  },
  {
   "cell_type": "code",
   "execution_count": 4,
   "metadata": {},
   "outputs": [
    {
     "name": "stdout",
     "output_type": "stream",
     "text": [
      "iced (214, 7)\n",
      "hot (214, 7)\n"
     ]
    }
   ],
   "source": [
    "print(\"iced\", data[data['type']==0].shape)\n",
    "print(\"hot\",data[data['type']==1].shape)\n",
    "# data.drop(['type'],axis=1, inplace=True)\n",
    "\n"
   ]
  },
  {
   "cell_type": "code",
   "execution_count": 5,
   "metadata": {
    "collapsed": true
   },
   "outputs": [],
   "source": [
    "#round data\n",
    "def round(df):\n",
    "    return df.apply(lambda x: np.rint(x))\n",
    "\n",
    "data['temp'] = round(data['temp'])\n",
    "# data['windDeg'] = round(data['windDeg'])\n",
    "data['windSpeed'] = round(data['windSpeed'])"
   ]
  },
  {
   "cell_type": "code",
   "execution_count": 6,
   "metadata": {
    "collapsed": true
   },
   "outputs": [],
   "source": [
    "def to_bins(col, bins, lables):\n",
    "    data[col] = pd.cut(data[col], bins=bins, labels=lables)\n",
    "    return data[col]\n",
    "\n",
    "def to_categorical(data, cat_vars):\n",
    "    for var in cat_vars:\n",
    "        cat_list='var'+'_'+var\n",
    "        cat_list = pd.get_dummies(data[var], prefix=var)\n",
    "        data1=data.join(cat_list)\n",
    "        data=data1\n",
    "    data = data.drop(cat_vars, axis=1)\n",
    "    return data"
   ]
  },
  {
   "cell_type": "code",
   "execution_count": 7,
   "metadata": {
    "collapsed": true
   },
   "outputs": [],
   "source": [
    "\n",
    "#convert visibilty from meters to miles\n",
    "def miles(meter):\n",
    "    return round(meter/1609.344)\n",
    "\n",
    "data['visibility'] = miles(data['visibility'])\n",
    "# bins = [0, 1, 5, 20]\n",
    "# vis_lables = [0,1,2]\n",
    "\n",
    "# data['visibility'] = to_bins(\"visibility\", bins=bins, lables=vis_lables)\n",
    "# # data = to_categorical(data, cat_vars=['visibility'])\n"
   ]
  },
  {
   "cell_type": "code",
   "execution_count": 8,
   "metadata": {
    "collapsed": true
   },
   "outputs": [],
   "source": [
    "# clouds binning\n",
    "# cloud_bins = [0, 25, 50, 100]\n",
    "# cloud_labels = [0, 1, 2]\n",
    "\n",
    "# data['clouds'] = to_bins(\"clouds\", bins=cloud_bins, lables=cloud_labels)\n",
    "# data = to_categorical(data, cat_vars=['clouds'])\n",
    "\n"
   ]
  },
  {
   "cell_type": "code",
   "execution_count": 9,
   "metadata": {
    "collapsed": true
   },
   "outputs": [],
   "source": [
    "# humidity binning\n",
    "# data['humidity'].value_counts()\n",
    "# humidity_bins = [0, 25, 50, 100]\n",
    "# humidity_labels = [0, 1, 2]\n",
    "\n",
    "# data['humidity'] = to_bins(\"humidity\", bins=humidity_bins, lables=humidity_labels)\n",
    "# data = to_categorical(data, cat_vars=['humidity'])\n",
    "\n"
   ]
  },
  {
   "cell_type": "code",
   "execution_count": 10,
   "metadata": {},
   "outputs": [
    {
     "data": {
      "text/html": [
       "<div>\n",
       "<style>\n",
       "    .dataframe thead tr:only-child th {\n",
       "        text-align: right;\n",
       "    }\n",
       "\n",
       "    .dataframe thead th {\n",
       "        text-align: left;\n",
       "    }\n",
       "\n",
       "    .dataframe tbody tr th {\n",
       "        vertical-align: top;\n",
       "    }\n",
       "</style>\n",
       "<table border=\"1\" class=\"dataframe\">\n",
       "  <thead>\n",
       "    <tr style=\"text-align: right;\">\n",
       "      <th></th>\n",
       "      <th>clouds</th>\n",
       "      <th>humidity</th>\n",
       "      <th>temp</th>\n",
       "      <th>type</th>\n",
       "      <th>visibility</th>\n",
       "      <th>weatherCond</th>\n",
       "      <th>windSpeed</th>\n",
       "    </tr>\n",
       "  </thead>\n",
       "  <tbody>\n",
       "    <tr>\n",
       "      <th>FC13E2E8-E047-459D-9DF6-04EB731F02B7</th>\n",
       "      <td>1</td>\n",
       "      <td>27</td>\n",
       "      <td>73.0</td>\n",
       "      <td>0</td>\n",
       "      <td>10.0</td>\n",
       "      <td>Clear</td>\n",
       "      <td>4.0</td>\n",
       "    </tr>\n",
       "    <tr>\n",
       "      <th>1D9C6B3D-B3F9-4F11-B1C2-24789DAD423E</th>\n",
       "      <td>1</td>\n",
       "      <td>35</td>\n",
       "      <td>72.0</td>\n",
       "      <td>0</td>\n",
       "      <td>10.0</td>\n",
       "      <td>Clear</td>\n",
       "      <td>8.0</td>\n",
       "    </tr>\n",
       "    <tr>\n",
       "      <th>35C1F5CE-F649-4B7C-A111-F7FDFD9A36DC</th>\n",
       "      <td>1</td>\n",
       "      <td>72</td>\n",
       "      <td>70.0</td>\n",
       "      <td>0</td>\n",
       "      <td>10.0</td>\n",
       "      <td>Clear</td>\n",
       "      <td>3.0</td>\n",
       "    </tr>\n",
       "    <tr>\n",
       "      <th>96DFDC31-350D-42FF-9D07-095F8AF9D33D</th>\n",
       "      <td>90</td>\n",
       "      <td>93</td>\n",
       "      <td>66.0</td>\n",
       "      <td>0</td>\n",
       "      <td>1.0</td>\n",
       "      <td>Mist</td>\n",
       "      <td>4.0</td>\n",
       "    </tr>\n",
       "    <tr>\n",
       "      <th>CEE6A9B7-DAF7-4DE0-8B21-21DC4A0CCFAB</th>\n",
       "      <td>75</td>\n",
       "      <td>100</td>\n",
       "      <td>64.0</td>\n",
       "      <td>0</td>\n",
       "      <td>3.0</td>\n",
       "      <td>Mist</td>\n",
       "      <td>6.0</td>\n",
       "    </tr>\n",
       "  </tbody>\n",
       "</table>\n",
       "</div>"
      ],
      "text/plain": [
       "                                      clouds  humidity  temp  type  \\\n",
       "FC13E2E8-E047-459D-9DF6-04EB731F02B7       1        27  73.0     0   \n",
       "1D9C6B3D-B3F9-4F11-B1C2-24789DAD423E       1        35  72.0     0   \n",
       "35C1F5CE-F649-4B7C-A111-F7FDFD9A36DC       1        72  70.0     0   \n",
       "96DFDC31-350D-42FF-9D07-095F8AF9D33D      90        93  66.0     0   \n",
       "CEE6A9B7-DAF7-4DE0-8B21-21DC4A0CCFAB      75       100  64.0     0   \n",
       "\n",
       "                                      visibility weatherCond  windSpeed  \n",
       "FC13E2E8-E047-459D-9DF6-04EB731F02B7        10.0       Clear        4.0  \n",
       "1D9C6B3D-B3F9-4F11-B1C2-24789DAD423E        10.0       Clear        8.0  \n",
       "35C1F5CE-F649-4B7C-A111-F7FDFD9A36DC        10.0       Clear        3.0  \n",
       "96DFDC31-350D-42FF-9D07-095F8AF9D33D         1.0        Mist        4.0  \n",
       "CEE6A9B7-DAF7-4DE0-8B21-21DC4A0CCFAB         3.0        Mist        6.0  "
      ]
     },
     "execution_count": 10,
     "metadata": {},
     "output_type": "execute_result"
    }
   ],
   "source": [
    "data.head()"
   ]
  },
  {
   "cell_type": "code",
   "execution_count": 11,
   "metadata": {},
   "outputs": [
    {
     "data": {
      "text/plain": [
       "Clouds          174\n",
       "Clear           126\n",
       "Rain             95\n",
       "Fog              13\n",
       "Haze             10\n",
       "Snow              7\n",
       "Smoke             2\n",
       "Thunderstorm      1\n",
       "Name: weatherCond, dtype: int64"
      ]
     },
     "execution_count": 11,
     "metadata": {},
     "output_type": "execute_result"
    }
   ],
   "source": [
    "data['weatherCond']\n",
    "for index,rows in data.iterrows():\n",
    "    if (\"cloud\" in data.loc[index, 'weatherCond'].lower() or \"overcast\" in data.loc[index, 'weatherCond'].lower()):\n",
    "        data.loc[index, 'weatherCond'] = 'Clouds'\n",
    "        \n",
    "    if (\"snow\" in data.loc[index, 'weatherCond'].lower()):\n",
    "        data.loc[index, 'weatherCond'] = 'Snow'\n",
    "        \n",
    "    if (\"rain\" in data.loc[index, 'weatherCond'].lower() or \"drizzle\" in data.loc[index, 'weatherCond'].lower() or \"mist\" in data.loc[index, 'weatherCond'].lower()):\n",
    "        data.loc[index, 'weatherCond'] = 'Rain'\n",
    "        \n",
    "    if (\"none\" in data.loc[index, 'weatherCond'].lower()):\n",
    "        data.loc[index, 'weatherCond'] = 'Clear'\n",
    "    \n",
    "\n",
    "data['weatherCond'].value_counts()"
   ]
  },
  {
   "cell_type": "code",
   "execution_count": 12,
   "metadata": {},
   "outputs": [
    {
     "data": {
      "text/html": [
       "<div>\n",
       "<style>\n",
       "    .dataframe thead tr:only-child th {\n",
       "        text-align: right;\n",
       "    }\n",
       "\n",
       "    .dataframe thead th {\n",
       "        text-align: left;\n",
       "    }\n",
       "\n",
       "    .dataframe tbody tr th {\n",
       "        vertical-align: top;\n",
       "    }\n",
       "</style>\n",
       "<table border=\"1\" class=\"dataframe\">\n",
       "  <thead>\n",
       "    <tr style=\"text-align: right;\">\n",
       "      <th></th>\n",
       "      <th>clouds</th>\n",
       "      <th>humidity</th>\n",
       "      <th>temp</th>\n",
       "      <th>type</th>\n",
       "      <th>visibility</th>\n",
       "      <th>windSpeed</th>\n",
       "      <th>weatherCond_Clear</th>\n",
       "      <th>weatherCond_Clouds</th>\n",
       "      <th>weatherCond_Fog</th>\n",
       "      <th>weatherCond_Haze</th>\n",
       "      <th>weatherCond_Rain</th>\n",
       "      <th>weatherCond_Smoke</th>\n",
       "      <th>weatherCond_Snow</th>\n",
       "      <th>weatherCond_Thunderstorm</th>\n",
       "    </tr>\n",
       "  </thead>\n",
       "  <tbody>\n",
       "    <tr>\n",
       "      <th>FC13E2E8-E047-459D-9DF6-04EB731F02B7</th>\n",
       "      <td>1</td>\n",
       "      <td>27</td>\n",
       "      <td>73.0</td>\n",
       "      <td>0</td>\n",
       "      <td>10.0</td>\n",
       "      <td>4.0</td>\n",
       "      <td>1</td>\n",
       "      <td>0</td>\n",
       "      <td>0</td>\n",
       "      <td>0</td>\n",
       "      <td>0</td>\n",
       "      <td>0</td>\n",
       "      <td>0</td>\n",
       "      <td>0</td>\n",
       "    </tr>\n",
       "    <tr>\n",
       "      <th>1D9C6B3D-B3F9-4F11-B1C2-24789DAD423E</th>\n",
       "      <td>1</td>\n",
       "      <td>35</td>\n",
       "      <td>72.0</td>\n",
       "      <td>0</td>\n",
       "      <td>10.0</td>\n",
       "      <td>8.0</td>\n",
       "      <td>1</td>\n",
       "      <td>0</td>\n",
       "      <td>0</td>\n",
       "      <td>0</td>\n",
       "      <td>0</td>\n",
       "      <td>0</td>\n",
       "      <td>0</td>\n",
       "      <td>0</td>\n",
       "    </tr>\n",
       "    <tr>\n",
       "      <th>35C1F5CE-F649-4B7C-A111-F7FDFD9A36DC</th>\n",
       "      <td>1</td>\n",
       "      <td>72</td>\n",
       "      <td>70.0</td>\n",
       "      <td>0</td>\n",
       "      <td>10.0</td>\n",
       "      <td>3.0</td>\n",
       "      <td>1</td>\n",
       "      <td>0</td>\n",
       "      <td>0</td>\n",
       "      <td>0</td>\n",
       "      <td>0</td>\n",
       "      <td>0</td>\n",
       "      <td>0</td>\n",
       "      <td>0</td>\n",
       "    </tr>\n",
       "    <tr>\n",
       "      <th>96DFDC31-350D-42FF-9D07-095F8AF9D33D</th>\n",
       "      <td>90</td>\n",
       "      <td>93</td>\n",
       "      <td>66.0</td>\n",
       "      <td>0</td>\n",
       "      <td>1.0</td>\n",
       "      <td>4.0</td>\n",
       "      <td>0</td>\n",
       "      <td>0</td>\n",
       "      <td>0</td>\n",
       "      <td>0</td>\n",
       "      <td>1</td>\n",
       "      <td>0</td>\n",
       "      <td>0</td>\n",
       "      <td>0</td>\n",
       "    </tr>\n",
       "    <tr>\n",
       "      <th>CEE6A9B7-DAF7-4DE0-8B21-21DC4A0CCFAB</th>\n",
       "      <td>75</td>\n",
       "      <td>100</td>\n",
       "      <td>64.0</td>\n",
       "      <td>0</td>\n",
       "      <td>3.0</td>\n",
       "      <td>6.0</td>\n",
       "      <td>0</td>\n",
       "      <td>0</td>\n",
       "      <td>0</td>\n",
       "      <td>0</td>\n",
       "      <td>1</td>\n",
       "      <td>0</td>\n",
       "      <td>0</td>\n",
       "      <td>0</td>\n",
       "    </tr>\n",
       "  </tbody>\n",
       "</table>\n",
       "</div>"
      ],
      "text/plain": [
       "                                      clouds  humidity  temp  type  \\\n",
       "FC13E2E8-E047-459D-9DF6-04EB731F02B7       1        27  73.0     0   \n",
       "1D9C6B3D-B3F9-4F11-B1C2-24789DAD423E       1        35  72.0     0   \n",
       "35C1F5CE-F649-4B7C-A111-F7FDFD9A36DC       1        72  70.0     0   \n",
       "96DFDC31-350D-42FF-9D07-095F8AF9D33D      90        93  66.0     0   \n",
       "CEE6A9B7-DAF7-4DE0-8B21-21DC4A0CCFAB      75       100  64.0     0   \n",
       "\n",
       "                                      visibility  windSpeed  \\\n",
       "FC13E2E8-E047-459D-9DF6-04EB731F02B7        10.0        4.0   \n",
       "1D9C6B3D-B3F9-4F11-B1C2-24789DAD423E        10.0        8.0   \n",
       "35C1F5CE-F649-4B7C-A111-F7FDFD9A36DC        10.0        3.0   \n",
       "96DFDC31-350D-42FF-9D07-095F8AF9D33D         1.0        4.0   \n",
       "CEE6A9B7-DAF7-4DE0-8B21-21DC4A0CCFAB         3.0        6.0   \n",
       "\n",
       "                                      weatherCond_Clear  weatherCond_Clouds  \\\n",
       "FC13E2E8-E047-459D-9DF6-04EB731F02B7                  1                   0   \n",
       "1D9C6B3D-B3F9-4F11-B1C2-24789DAD423E                  1                   0   \n",
       "35C1F5CE-F649-4B7C-A111-F7FDFD9A36DC                  1                   0   \n",
       "96DFDC31-350D-42FF-9D07-095F8AF9D33D                  0                   0   \n",
       "CEE6A9B7-DAF7-4DE0-8B21-21DC4A0CCFAB                  0                   0   \n",
       "\n",
       "                                      weatherCond_Fog  weatherCond_Haze  \\\n",
       "FC13E2E8-E047-459D-9DF6-04EB731F02B7                0                 0   \n",
       "1D9C6B3D-B3F9-4F11-B1C2-24789DAD423E                0                 0   \n",
       "35C1F5CE-F649-4B7C-A111-F7FDFD9A36DC                0                 0   \n",
       "96DFDC31-350D-42FF-9D07-095F8AF9D33D                0                 0   \n",
       "CEE6A9B7-DAF7-4DE0-8B21-21DC4A0CCFAB                0                 0   \n",
       "\n",
       "                                      weatherCond_Rain  weatherCond_Smoke  \\\n",
       "FC13E2E8-E047-459D-9DF6-04EB731F02B7                 0                  0   \n",
       "1D9C6B3D-B3F9-4F11-B1C2-24789DAD423E                 0                  0   \n",
       "35C1F5CE-F649-4B7C-A111-F7FDFD9A36DC                 0                  0   \n",
       "96DFDC31-350D-42FF-9D07-095F8AF9D33D                 1                  0   \n",
       "CEE6A9B7-DAF7-4DE0-8B21-21DC4A0CCFAB                 1                  0   \n",
       "\n",
       "                                      weatherCond_Snow  \\\n",
       "FC13E2E8-E047-459D-9DF6-04EB731F02B7                 0   \n",
       "1D9C6B3D-B3F9-4F11-B1C2-24789DAD423E                 0   \n",
       "35C1F5CE-F649-4B7C-A111-F7FDFD9A36DC                 0   \n",
       "96DFDC31-350D-42FF-9D07-095F8AF9D33D                 0   \n",
       "CEE6A9B7-DAF7-4DE0-8B21-21DC4A0CCFAB                 0   \n",
       "\n",
       "                                      weatherCond_Thunderstorm  \n",
       "FC13E2E8-E047-459D-9DF6-04EB731F02B7                         0  \n",
       "1D9C6B3D-B3F9-4F11-B1C2-24789DAD423E                         0  \n",
       "35C1F5CE-F649-4B7C-A111-F7FDFD9A36DC                         0  \n",
       "96DFDC31-350D-42FF-9D07-095F8AF9D33D                         0  \n",
       "CEE6A9B7-DAF7-4DE0-8B21-21DC4A0CCFAB                         0  "
      ]
     },
     "execution_count": 12,
     "metadata": {},
     "output_type": "execute_result"
    }
   ],
   "source": [
    "# one- hot encoding\n",
    "cat_vars=['weatherCond']\n",
    "for var in cat_vars:\n",
    "    cat_list='var'+'_'+var\n",
    "    cat_list = pd.get_dummies(data[var], prefix=var)\n",
    "    data1=data.join(cat_list)\n",
    "    data=data1\n",
    "data = data.drop(['weatherCond'], axis=1)\n",
    "data.head()"
   ]
  },
  {
   "cell_type": "code",
   "execution_count": 13,
   "metadata": {
    "scrolled": false
   },
   "outputs": [
    {
     "name": "stdout",
     "output_type": "stream",
     "text": [
      "<class 'pandas.core.frame.DataFrame'>\n",
      "Index: 428 entries, FC13E2E8-E047-459D-9DF6-04EB731F02B7 to 5f159ad0-6ad1-11e7-908f-4b064f587a76\n",
      "Data columns (total 14 columns):\n",
      "clouds                      428 non-null int64\n",
      "humidity                    428 non-null int64\n",
      "temp                        428 non-null float64\n",
      "type                        428 non-null int64\n",
      "visibility                  428 non-null float64\n",
      "windSpeed                   428 non-null float64\n",
      "weatherCond_Clear           428 non-null uint8\n",
      "weatherCond_Clouds          428 non-null uint8\n",
      "weatherCond_Fog             428 non-null uint8\n",
      "weatherCond_Haze            428 non-null uint8\n",
      "weatherCond_Rain            428 non-null uint8\n",
      "weatherCond_Smoke           428 non-null uint8\n",
      "weatherCond_Snow            428 non-null uint8\n",
      "weatherCond_Thunderstorm    428 non-null uint8\n",
      "dtypes: float64(3), int64(3), uint8(8)\n",
      "memory usage: 46.8+ KB\n"
     ]
    }
   ],
   "source": [
    "data.info()"
   ]
  },
  {
   "cell_type": "code",
   "execution_count": 14,
   "metadata": {},
   "outputs": [
    {
     "data": {
      "text/plain": [
       "<matplotlib.axes._subplots.AxesSubplot at 0x115e43828>"
      ]
     },
     "execution_count": 14,
     "metadata": {},
     "output_type": "execute_result"
    },
    {
     "data": {
      "image/png": "[encoded data removed]",
      "text/plain": [
       "<matplotlib.figure.Figure at 0x115e30ef0>"
      ]
     },
     "metadata": {},
     "output_type": "display_data"
    }
   ],
   "source": [
    "import seaborn as sns\n",
    "corr = data.corr()\n",
    "sns.heatmap(corr, \n",
    "            xticklabels=corr.columns.values,\n",
    "            yticklabels=corr.columns.values)"
   ]
  },
  {
   "cell_type": "code",
   "execution_count": 15,
   "metadata": {
    "collapsed": true
   },
   "outputs": [],
   "source": [
    "data.drop(['type'],axis=1, inplace=True)"
   ]
  },
  {
   "cell_type": "code",
   "execution_count": 16,
   "metadata": {},
   "outputs": [
    {
     "name": "stdout",
     "output_type": "stream",
     "text": [
      "data (428, 13)\n",
      "labels (428,)\n"
     ]
    }
   ],
   "source": [
    "print(\"data\",data.shape)\n",
    "print(\"labels\", labels.shape)"
   ]
  },
  {
   "cell_type": "code",
   "execution_count": 17,
   "metadata": {
    "scrolled": true
   },
   "outputs": [
    {
     "name": "stdout",
     "output_type": "stream",
     "text": [
      "[False False False False False False  True False  True False  True  True\n",
      " False]\n",
      "[10  8  6  9  7  2  1  4  1  5  1  1  3]\n"
     ]
    }
   ],
   "source": [
    "from sklearn.feature_selection import RFE\n",
    "from sklearn.linear_model import LogisticRegression\n",
    "model = LogisticRegression()\n",
    "rfe = RFE(model, 4)\n",
    "rfe = rfe.fit(data, labels)\n",
    "print(rfe.support_)\n",
    "print(rfe.ranking_)"
   ]
  },
  {
   "cell_type": "code",
   "execution_count": 18,
   "metadata": {},
   "outputs": [
    {
     "name": "stderr",
     "output_type": "stream",
     "text": [
      "/Users/antoniohung/anaconda/lib/python3.6/site-packages/sklearn/cross_validation.py:44: DeprecationWarning: This module was deprecated in version 0.18 in favor of the model_selection module into which all the refactored classes and functions are moved. Also note that the interface of the new CV iterators are different from that of this module. This module will be removed in 0.20.\n",
      "  \"This module will be removed in 0.20.\", DeprecationWarning)\n"
     ]
    }
   ],
   "source": [
    "X = data#data[['lat','lon', 'temp', 'windSpeed']]\n",
    "y = labels\n",
    "from sklearn.cross_validation import train_test_split\n",
    "X_train, X_test, y_train, y_test = train_test_split(X, y, test_size=0.3, random_state=42)\n"
   ]
  },
  {
   "cell_type": "code",
   "execution_count": 19,
   "metadata": {
    "collapsed": true
   },
   "outputs": [],
   "source": [
    "#save X_test\n"
   ]
  },
  {
   "cell_type": "code",
   "execution_count": 20,
   "metadata": {},
   "outputs": [
    {
     "name": "stdout",
     "output_type": "stream",
     "text": [
      "Logistic regression accuracy: 0.698\n"
     ]
    }
   ],
   "source": [
    "from sklearn.linear_model import LogisticRegression\n",
    "from sklearn import metrics\n",
    "logreg = LogisticRegression()\n",
    "logreg.fit(X_train, y_train)\n",
    "\n",
    "from sklearn.metrics import accuracy_score\n",
    "print('Logistic regression accuracy: {:.3f}'.format(accuracy_score(y_test, logreg.predict(X_test))))"
   ]
  },
  {
   "cell_type": "code",
   "execution_count": 21,
   "metadata": {},
   "outputs": [
    {
     "data": {
      "text/plain": [
       "LinearRegression(copy_X=True, fit_intercept=True, n_jobs=1, normalize=False)"
      ]
     },
     "execution_count": 21,
     "metadata": {},
     "output_type": "execute_result"
    }
   ],
   "source": [
    "from sklearn.linear_model import LinearRegression\n",
    "reg = LinearRegression()\n",
    "reg.fit(X_train,y_train)"
   ]
  },
  {
   "cell_type": "code",
   "execution_count": null,
   "metadata": {
    "collapsed": true
   },
   "outputs": [],
   "source": []
  },
  {
   "cell_type": "code",
   "execution_count": null,
   "metadata": {
    "collapsed": true
   },
   "outputs": [],
   "source": []
  },
  {
   "cell_type": "code",
   "execution_count": 22,
   "metadata": {},
   "outputs": [
    {
     "name": "stdout",
     "output_type": "stream",
     "text": [
      "Logistic regression accuracy: 0.698\n"
     ]
    }
   ],
   "source": [
    "from sklearn.metrics import accuracy_score\n",
    "print('Logistic regression accuracy: {:.3f}'.format(accuracy_score(y_test, logreg.predict(X_test))))"
   ]
  },
  {
   "cell_type": "code",
   "execution_count": 23,
   "metadata": {},
   "outputs": [
    {
     "name": "stdout",
     "output_type": "stream",
     "text": [
      "Random Forest Accuracy: 0.729\n"
     ]
    }
   ],
   "source": [
    "#random forest\n",
    "from sklearn.ensemble import RandomForestClassifier\n",
    "rf = RandomForestClassifier()\n",
    "rf.fit(X_train, y_train)\n",
    "print('Random Forest Accuracy: {:.3f}'.format(accuracy_score(y_test, rf.predict(X_test))))"
   ]
  },
  {
   "cell_type": "code",
   "execution_count": 24,
   "metadata": {},
   "outputs": [
    {
     "name": "stdout",
     "output_type": "stream",
     "text": [
      "Support vector machine accuracy: 0.550\n"
     ]
    }
   ],
   "source": [
    "#SVM\n",
    "from sklearn.svm import SVC\n",
    "svc = SVC()\n",
    "svc.fit(X_train, y_train)\n",
    "print('Support vector machine accuracy: {:.3f}'.format(accuracy_score(y_test, svc.predict(X_test))))              "
   ]
  },
  {
   "cell_type": "code",
   "execution_count": 25,
   "metadata": {},
   "outputs": [
    {
     "name": "stdout",
     "output_type": "stream",
     "text": [
      "0.648956228956\n",
      "0.662222222222\n"
     ]
    }
   ],
   "source": [
    "from sklearn import model_selection as ms\n",
    "from sklearn.model_selection import cross_val_score\n",
    "scoring = 'accuracy'\n",
    "\n",
    "\n",
    "kfoldMean = ms.cross_val_score(svc, X_train, y_train, cv = ms.KFold(), scoring=scoring).mean()\n",
    "Kfold_shuggle = ms.cross_val_score(svc, X_train, y_train, cv = ms.KFold(shuffle = True), scoring=scoring).mean()\n",
    "print(kfoldMean)\n",
    "print(Kfold_shuggle)"
   ]
  },
  {
   "cell_type": "code",
   "execution_count": 26,
   "metadata": {
    "collapsed": true
   },
   "outputs": [],
   "source": [
    "#save mode\n",
    "import pickle\n",
    "# filename = 'svc.sav'\n",
    "filename = 'models/rf.sav'\n",
    "pickle.dump(rf, open(filename, 'wb'), protocol=2)"
   ]
  },
  {
   "cell_type": "code",
   "execution_count": 27,
   "metadata": {
    "collapsed": true
   },
   "outputs": [],
   "source": [
    "\n",
    "#save mode\n",
    "import pickle\n",
    "filename = 'models/logreg.sav'\n",
    "# filename = 'rf.sav'\n",
    "pickle.dump(logreg, open(filename, 'wb'), protocol=2)"
   ]
  },
  {
   "cell_type": "code",
   "execution_count": null,
   "metadata": {
    "collapsed": true
   },
   "outputs": [],
   "source": [
    "file = open(filename, 'rb')\n",
    "svc = pickle.load(file)\n",
    "svc"
   ]
  },
  {
   "cell_type": "code",
   "execution_count": null,
   "metadata": {
    "collapsed": true
   },
   "outputs": [],
   "source": []
  }
 ],
 "metadata": {
  "kernelspec": {
   "display_name": "Python 3",
   "language": "python",
   "name": "python3"
  },
  "language_info": {
   "codemirror_mode": {
    "name": "ipython",
    "version": 3
   },
   "file_extension": ".py",
   "mimetype": "text/x-python",
   "name": "python",
   "nbconvert_exporter": "python",
   "pygments_lexer": "ipython3",
   "version": "3.6.1"
  }
 },
 "nbformat": 4,
 "nbformat_minor": 2
}
